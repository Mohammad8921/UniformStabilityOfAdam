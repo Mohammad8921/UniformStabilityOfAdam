{
 "cells": [
  {
   "cell_type": "markdown",
   "metadata": {},
   "source": [
    "## Face Detection"
   ]
  },
  {
   "cell_type": "code",
   "execution_count": 1,
   "metadata": {},
   "outputs": [],
   "source": [
    "import os\n",
    "import cv2\n",
    "import math\n",
    "import matplotlib.pyplot as plt\n",
    "import pandas as pd\n",
    "from PIL import Image\n",
    "import numpy as np\n",
    " \n",
    "# Detect face\n",
    "def face_detection(img):\n",
    "    faces = face_detector.detectMultiScale(img, 1.1, 4)\n",
    "    if (len(faces) <= 0):\n",
    "        return img\n",
    "    else:\n",
    "        X, Y, W, H = faces[0]\n",
    "        face = img[int(Y):int(Y+H), int(X):int(X+W)]\n",
    "        eyes = eye_detector.detectMultiScale(face, scaleFactor = 1.2, minNeighbors = 4)\n",
    "        if len(eyes) <= 0:\n",
    "            return img\n",
    "        return face\n",
    " \n",
    "\n",
    "opencv_home = cv2.__file__\n",
    "folders = opencv_home.split(os.path.sep)[0:-1]\n",
    "path = folders[0]\n",
    "for folder in folders[1:]:\n",
    "    path = path + \"/\" + folder\n",
    "path_for_face = path+\"/data/haarcascade_frontalface_default.xml\"\n",
    "path_for_eyes = path+\"/data/haarcascade_eye.xml\"\n",
    " \n",
    "\n",
    "face_detector = cv2.CascadeClassifier(path_for_face)\n",
    "eye_detector = cv2.CascadeClassifier(path_for_eyes)\n"
   ]
  },
  {
   "cell_type": "markdown",
   "metadata": {},
   "source": [
    "## Create UAM Dataset "
   ]
  },
  {
   "cell_type": "code",
   "execution_count": 2,
   "metadata": {},
   "outputs": [],
   "source": [
    "UTKFACE_PATH = '../Datasets/UTKFace/UTKFace/UTKface/'\n",
    "AGEDB_PATH = '../Datasets/AgeDB/AgeDB/'\n",
    "MEGAAGE_PATH = '../Datasets/megaage_asian/megaage_asian/train/'\n",
    "UAM_PATH = '../Datasets/UAM/images/'\n",
    "\n",
    "utkface_content = os.listdir(UTKFACE_PATH)\n",
    "agedb_content = os.listdir(AGEDB_PATH)\n",
    "\n",
    "with open('../Datasets/megaage_asian/megaage_asian/list/train_name.txt') as f:\n",
    "    megaage_content = f.read().split('\\n')[:-1]\n",
    "\n",
    "with open('../Datasets/megaage_asian/megaage_asian/list/train_age.txt') as f2:\n",
    "    megaage_content_age = f2.read().split('\\n')[:-1]\n",
    "\n",
    "index = 1\n",
    "for addr in utkface_content:\n",
    "    true_age = int(addr.split('_')[0])\n",
    "    if true_age >=0 and true_age < 101:\n",
    "        img = cv2.imread(UTKFACE_PATH + addr)\n",
    "        digits_NO = len(str(index))\n",
    "        cv2.imwrite(UAM_PATH + '0'*(6-digits_NO) + str(index) + '_' + str(true_age) + '_' + '.jpg' ,img)\n",
    "        index += 1\n",
    "\n",
    "for addr in agedb_content:\n",
    "    true_age = int(addr.split('_')[1][:-4])\n",
    "    if true_age >=0 and true_age < 101:\n",
    "        img = cv2.imread(AGEDB_PATH + addr)\n",
    "        face = face_detection(img)\n",
    "        digits_NO = len(str(index))\n",
    "        cv2.imwrite(UAM_PATH + '0'*(6-digits_NO) + str(index) + '_' + str(true_age) + '_' + '.jpg' ,face)\n",
    "        index += 1\n",
    "\n",
    "for i in range(len(megaage_content)):\n",
    "    true_age = int(megaage_content_age[i])\n",
    "    if true_age >=0 and true_age < 101:\n",
    "        img = cv2.imread(MEGAAGE_PATH + megaage_content[i])\n",
    "        face = face_detection(img)\n",
    "        digits_NO = len(str(index))\n",
    "        cv2.imwrite(UAM_PATH + '0'*(6-digits_NO) + str(index) + '_' + str(true_age) + '_' + '.jpg' ,face)\n",
    "        index += 1\n"
   ]
  },
  {
   "cell_type": "markdown",
   "metadata": {},
   "source": [
    "## Generating label distribution"
   ]
  },
  {
   "cell_type": "code",
   "execution_count": 3,
   "metadata": {},
   "outputs": [],
   "source": [
    "import numpy as np\n",
    "from scipy.special import softmax\n",
    "import os\n",
    "\n",
    "UAM_PATH = '../Datasets/UAM/images/'\n",
    "\n",
    "def normal_dist(x , mu , std):\n",
    "    prob_density = (np.pi*std) * np.exp(-0.5*((x-mu)/std)**2)\n",
    "    return prob_density\n",
    "\n",
    "uam_N = 101 # number of ages in the dataset\n",
    "to_file = \"\"\n",
    "sigma = 5\n",
    "\n",
    "for image_name in os.listdir(UAM_PATH):\n",
    "    true_age = int(image_name.split('_')[1])\n",
    "    mu = true_age\n",
    "    generated_numbers = np.random.uniform(0, uam_N , uam_N)\n",
    "    generated_numbers.sort()\n",
    "    y = normal_dist(generated_numbers, mu, sigma)\n",
    "    y = softmax(y)\n",
    "    to_file += ' '.join(list(map(str, y))) + '\\n'\n",
    "\n",
    "with open(\"../Datasets/UAM/dist/UAM_dist.txt\", \"w\") as f:\n",
    "    f.write(to_file)"
   ]
  }
 ],
 "metadata": {
  "kernelspec": {
   "display_name": "Python 3.7.8 64-bit",
   "language": "python",
   "name": "python3"
  },
  "language_info": {
   "codemirror_mode": {
    "name": "ipython",
    "version": 3
   },
   "file_extension": ".py",
   "mimetype": "text/x-python",
   "name": "python",
   "nbconvert_exporter": "python",
   "pygments_lexer": "ipython3",
   "version": "3.7.8"
  },
  "orig_nbformat": 4,
  "vscode": {
   "interpreter": {
    "hash": "96589047efed64a9c8c3a7bd39139c2dcad374972fa2c1e97fecd81fa1d46ebd"
   }
  }
 },
 "nbformat": 4,
 "nbformat_minor": 2
}
