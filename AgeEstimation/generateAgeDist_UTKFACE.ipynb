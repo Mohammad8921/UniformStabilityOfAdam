{
 "cells": [
  {
   "cell_type": "code",
   "execution_count": 1,
   "metadata": {},
   "outputs": [],
   "source": [
    "import numpy as np\n",
    "import os"
   ]
  },
  {
   "cell_type": "markdown",
   "metadata": {},
   "source": [
    "## Generate Age Distribution for UTKFACE Dataset"
   ]
  },
  {
   "cell_type": "code",
   "execution_count": 2,
   "metadata": {},
   "outputs": [],
   "source": [
    "from scipy.special import softmax\n",
    "\n",
    "UTKFACE_PATH = \"../Datasets/UTKFace/UTKFace/UTKFace/\"\n",
    "\n",
    "def normal_dist(x , mu , std):\n",
    "    prob_density = (np.pi*std) * np.exp(-0.5*((x-mu)/std)**2)\n",
    "    return prob_density\n",
    "\n",
    "utkface_N = 116 # Range of ages in the dataset is [1,116]\n",
    "to_file = \"\"\n",
    "sigma = 5\n",
    "\n",
    "for image_name in os.listdir(UTKFACE_PATH):\n",
    "    true_age = int(image_name.split('_')[0])\n",
    "    mu = true_age\n",
    "    generated_numbers = np.random.uniform(1, utkface_N + 1, utkface_N)\n",
    "    generated_numbers.sort()\n",
    "    y = normal_dist(generated_numbers, mu, sigma)\n",
    "    y = softmax(y)\n",
    "    to_file += ' '.join(list(map(str, y))) + '\\n'\n",
    "\n",
    "with open(\"../Datasets/UTKFace/utkface_dist.txt\", \"w\") as f:\n",
    "    f.write(to_file)"
   ]
  }
 ],
 "metadata": {
  "kernelspec": {
   "display_name": "Python 3.7.8 64-bit",
   "language": "python",
   "name": "python3"
  },
  "language_info": {
   "codemirror_mode": {
    "name": "ipython",
    "version": 3
   },
   "file_extension": ".py",
   "mimetype": "text/x-python",
   "name": "python",
   "nbconvert_exporter": "python",
   "pygments_lexer": "ipython3",
   "version": "3.7.8"
  },
  "orig_nbformat": 4,
  "vscode": {
   "interpreter": {
    "hash": "96589047efed64a9c8c3a7bd39139c2dcad374972fa2c1e97fecd81fa1d46ebd"
   }
  }
 },
 "nbformat": 4,
 "nbformat_minor": 2
}
